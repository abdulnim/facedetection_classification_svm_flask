{
 "cells": [
  {
   "cell_type": "code",
   "execution_count": 1,
   "id": "23129eb3",
   "metadata": {},
   "outputs": [],
   "source": [
    "import numpy as np\n",
    "import cv2\n",
    "import matplotlib\n",
    "from matplotlib import pyplot as plt\n",
    "import os \n",
    "import glob\n",
    "import shutil"
   ]
  },
  {
   "cell_type": "code",
   "execution_count": 2,
   "id": "0685d392",
   "metadata": {},
   "outputs": [],
   "source": [
    "face_cascade = cv2.CascadeClassifier(cv2.data.haarcascades + 'haarcascade_frontalface_default.xml')\n",
    "eye_cascade = cv2.CascadeClassifier(cv2.data.haarcascades + 'haarcascade_eye.xml')"
   ]
  },
  {
   "cell_type": "code",
   "execution_count": 3,
   "id": "b0e172d6",
   "metadata": {},
   "outputs": [],
   "source": [
    "# A function to get path of the image and check if there is face and two eyes then return the cropped area of the face\n",
    "def get_cropped_image_if_2_eyes_exist(img_path):\n",
    "    img = cv2.imread(img_path)\n",
    "    if img is None:\n",
    "        return\n",
    "    img_gray = cv2.cvtColor(img, cv2.COLOR_BGR2GRAY)\n",
    "    faces = face_cascade.detectMultiScale(img_gray, 1.3,5)\n",
    "    for (x,y,w,h) in faces:\n",
    "        roi_gray = img_gray[y:y+h, x:x+w]\n",
    "        roi_color = img[y:y+h, x:x+w]\n",
    "        eyes = eye_cascade.detectMultiScale(roi_gray, 1.1, 5)\n",
    "#         for (ex,ey,ew,eh) in eyes:\n",
    "#             cv2.rectangle(roi_color,(ex,ey),(ex+ew,ey+eh),(0,255,0),2)\n",
    "        if len(eyes) >=2:\n",
    "            return roi_color"
   ]
  },
  {
   "cell_type": "markdown",
   "id": "3cba216d",
   "metadata": {},
   "source": [
    "## check the dataset and create a cropped folder and put all the cropped face images in that folder"
   ]
  },
  {
   "cell_type": "code",
   "execution_count": 7,
   "id": "26ae3261",
   "metadata": {},
   "outputs": [],
   "source": [
    "dataset_path = './dataset/'\n",
    "dataset_cropp_path = './dataset_cropped/'\n",
    "img_dirs = []\n",
    "for folder in os.scandir(dataset_path):\n",
    "    if folder.is_dir():\n",
    "        img_dirs.append(folder.path)\n",
    "\n",
    "# if cropped images folder already exists then remove it and create a new one\n",
    "if os.path.exists(dataset_cropp_path):\n",
    "    shutil.rmtree(dataset_cropp_path)\n",
    "os.mkdir(dataset_cropp_path)"
   ]
  },
  {
   "cell_type": "code",
   "execution_count": 8,
   "id": "cb66d4ae",
   "metadata": {
    "scrolled": true
   },
   "outputs": [
    {
     "name": "stdout",
     "output_type": "stream",
     "text": [
      "Getting Images from ./dataset/lionel_messi\n",
      "Saving Cropped Images to./dataset_cropped/lionel_messi\n",
      "\n",
      "\n",
      "\n",
      "Getting Images from ./dataset/Son_Heung_min\n",
      "Saving Cropped Images to./dataset_cropped/Son_Heung_min\n",
      "\n",
      "\n",
      "\n",
      "Getting Images from ./dataset/cristiano_ronaldo\n",
      "Saving Cropped Images to./dataset_cropped/cristiano_ronaldo\n",
      "\n",
      "\n",
      "\n"
     ]
    },
    {
     "name": "stderr",
     "output_type": "stream",
     "text": [
      "libpng warning: iCCP: known incorrect sRGB profile\n"
     ]
    },
    {
     "name": "stdout",
     "output_type": "stream",
     "text": [
      "Getting Images from ./dataset/karim_benzema\n",
      "Saving Cropped Images to./dataset_cropped/karim_benzema\n",
      "\n",
      "\n",
      "\n",
      "Getting Images from ./dataset/kylian_mbappe\n",
      "Saving Cropped Images to./dataset_cropped/kylian_mbappe\n",
      "\n",
      "\n",
      "\n"
     ]
    }
   ],
   "source": [
    "cropped_images_dir = []\n",
    "\n",
    "for img_dir in img_dirs:\n",
    "    count = 1\n",
    "    player_name = img_dir.split('/')[-1]\n",
    "    # Create cropped images directory with the same names in the dataset path folders\n",
    "    curr_player_dir = dataset_cropp_path + player_name \n",
    "    if os.path.exists(curr_player_dir):\n",
    "        shutil.rmtree(curr_player_dir)\n",
    "    os.mkdir(curr_player_dir)\n",
    "    cropped_images_dir.append(curr_player_dir)\n",
    "    print('Getting Images from '+img_dir)\n",
    "    print('Saving Cropped Images to'+ curr_player_dir)\n",
    "    print('\\n')\n",
    "    # Now Get path of each image in the dataset path directories, crop face from it and send it to crop folders dataset\n",
    "    for img in os.scandir(img_dir):   \n",
    "        image_roi = get_cropped_image_if_2_eyes_exist(img.path)\n",
    "        if image_roi is not None:\n",
    "            cropped_image_name = player_name + str(count) + \".jpg\"\n",
    "            cropped_image_path = curr_player_dir + \"/\" + cropped_image_name\n",
    "            cv2.imwrite(cropped_image_path, image_roi)\n",
    "            count +=1\n",
    "            \n",
    "        "
   ]
  },
  {
   "cell_type": "code",
   "execution_count": null,
   "id": "f9627814",
   "metadata": {},
   "outputs": [],
   "source": []
  }
 ],
 "metadata": {
  "kernelspec": {
   "display_name": "Python 3 (ipykernel)",
   "language": "python",
   "name": "python3"
  },
  "language_info": {
   "codemirror_mode": {
    "name": "ipython",
    "version": 3
   },
   "file_extension": ".py",
   "mimetype": "text/x-python",
   "name": "python",
   "nbconvert_exporter": "python",
   "pygments_lexer": "ipython3",
   "version": "3.10.4"
  }
 },
 "nbformat": 4,
 "nbformat_minor": 5
}
